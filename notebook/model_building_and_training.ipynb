{
 "cells": [
  {
   "cell_type": "code",
   "execution_count": 1,
   "metadata": {},
   "outputs": [],
   "source": [
    "import os \n",
    "os.chdir(\"../\")"
   ]
  },
  {
   "cell_type": "code",
   "execution_count": 5,
   "metadata": {},
   "outputs": [],
   "source": [
    "import pandas as pd\n",
    "from sklearn.model_selection import train_test_split\n",
    "from sklearn.metrics import accuracy_score, precision_score, recall_score, f1_score\n",
    "from sklearn.linear_model import LogisticRegression\n",
    "from sklearn.tree import DecisionTreeClassifier\n",
    "from sklearn.ensemble import RandomForestClassifier, GradientBoostingClassifier\n",
    "from sklearn.neural_network import MLPClassifier\n",
    "from tensorflow.keras.models import Sequential\n",
    "from tensorflow.keras.layers import Dense, Conv2D, MaxPooling2D, Flatten, LSTM"
   ]
  },
  {
   "cell_type": "code",
   "execution_count": 2,
   "metadata": {},
   "outputs": [],
   "source": [
    "creditcard_data = pd.read_csv('data/creditcard.csv')\n",
    "X_creditcard = creditcard_data.drop('Class', axis=1)\n",
    "y_creditcard = creditcard_data['Class']\n",
    "X_train_creditcard, X_test_creditcard, y_train_creditcard, y_test_creditcard = train_test_split(X_creditcard, y_creditcard, test_size=0.2, random_state=42)\n"
   ]
  },
  {
   "cell_type": "code",
   "execution_count": null,
   "metadata": {},
   "outputs": [],
   "source": [
    "import mlflow \n",
    "mlflow.autolog()\n",
    "with mlflow.start_run(run_name=\"My Logistic Regression Model(credit card based) v1\"):\n",
    "    # Logistic Regression\n",
    "    lr_model = LogisticRegression()\n",
    "    lr_model.fit(X_train_creditcard, y_train_creditcard)\n",
    "\n",
    "    # Evaluate logistic regression\n",
    "    y_pred_lr = lr_model.predict(X_test_creditcard)\n",
    "    accuracy_lr = accuracy_score(y_test_creditcard, y_pred_lr)\n",
    "    print(f\"Accuracy: {accuracy_lr}\")\n",
    "\n",
    "    mlflow.log_param(\"model\", \"logistic_regression\")\n",
    "    mlflow.log_metric(\"accuracy\", accuracy_lr)\n",
    "\n",
    "    mlflow.sklearn.log_model(lr_model, \"lr_model.pkl\", input_example=X_train_creditcard[:1])\n",
    "\n",
    "    run_id = mlflow.active_run().info.run_id\n",
    "    print(f\"run_id {run_id}\")"
   ]
  }
 ],
 "metadata": {
  "kernelspec": {
   "display_name": "Python 3",
   "language": "python",
   "name": "python3"
  },
  "language_info": {
   "codemirror_mode": {
    "name": "ipython",
    "version": 3
   },
   "file_extension": ".py",
   "mimetype": "text/x-python",
   "name": "python",
   "nbconvert_exporter": "python",
   "pygments_lexer": "ipython3",
   "version": "3.12.7"
  }
 },
 "nbformat": 4,
 "nbformat_minor": 2
}
