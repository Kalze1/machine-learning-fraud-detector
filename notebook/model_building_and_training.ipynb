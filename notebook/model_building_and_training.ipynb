{
 "cells": [
  {
   "cell_type": "code",
   "execution_count": 2,
   "metadata": {},
   "outputs": [],
   "source": [
    "import os \n",
    "os.chdir(\"../\")"
   ]
  },
  {
   "cell_type": "code",
   "execution_count": 3,
   "metadata": {},
   "outputs": [
    {
     "name": "stderr",
     "output_type": "stream",
     "text": [
      "2024/10/21 23:36:03 INFO mlflow.tracking.fluent: Autologging successfully enabled for keras.\n",
      "2024/10/21 23:36:04 INFO mlflow.tracking.fluent: Autologging successfully enabled for tensorflow.\n"
     ]
    }
   ],
   "source": [
    "import pandas as pd\n",
    "import mlflow\n",
    "from sklearn.model_selection import train_test_split\n",
    "from sklearn.metrics import accuracy_score, precision_score, recall_score, f1_score\n",
    "from sklearn.linear_model import LogisticRegression\n",
    "from sklearn.tree import DecisionTreeClassifier\n",
    "from sklearn.ensemble import RandomForestClassifier, GradientBoostingClassifier\n",
    "from sklearn.neural_network import MLPClassifier\n",
    "import tensorflow as tf\n",
    "from tensorflow.keras.models import Sequential\n",
    "from tensorflow.keras.layers import Conv2D, MaxPooling2D, Flatten, Dense"
   ]
  },
  {
   "cell_type": "code",
   "execution_count": 4,
   "metadata": {},
   "outputs": [],
   "source": [
    "creditcard_data = pd.read_csv('data/creditcard.csv')\n",
    "X_creditcard = creditcard_data.drop('Class', axis=1)\n",
    "y_creditcard = creditcard_data['Class']\n",
    "X_train_creditcard, X_test_creditcard, y_train_creditcard, y_test_creditcard = train_test_split(X_creditcard, y_creditcard, test_size=0.2, random_state=42)\n"
   ]
  },
  {
   "cell_type": "code",
   "execution_count": null,
   "metadata": {},
   "outputs": [],
   "source": [
    "import mlflow \n",
    "mlflow.autolog()\n",
    "with mlflow.start_run(run_name=\"My Logistic Regression Model(credit card based) v1\"):\n",
    "    # Logistic Regression\n",
    "    lr_model = LogisticRegression()\n",
    "    lr_model.fit(X_train_creditcard, y_train_creditcard)\n",
    "\n",
    "    # Evaluate logistic regression\n",
    "    y_pred_lr = lr_model.predict(X_test_creditcard)\n",
    "    accuracy_lr = accuracy_score(y_test_creditcard, y_pred_lr)\n",
    "    print(f\"Accuracy: {accuracy_lr}\")\n",
    "\n",
    "    mlflow.log_param(\"model\", \"logistic_regression\")\n",
    "    mlflow.log_metric(\"accuracy\", accuracy_lr)\n",
    "\n",
    "    mlflow.sklearn.log_model(lr_model, \"lr_model.pkl\", input_example=X_train_creditcard[:1])\n",
    "\n",
    "    run_id = mlflow.active_run().info.run_id\n",
    "    print(f\"run_id {run_id}\")"
   ]
  },
  {
   "cell_type": "code",
   "execution_count": null,
   "metadata": {},
   "outputs": [
    {
     "name": "stderr",
     "output_type": "stream",
     "text": [
      "2024/10/21 23:41:07 INFO mlflow.tracking.fluent: Autologging successfully enabled for tensorflow.\n"
     ]
    },
    {
     "name": "stderr",
     "output_type": "stream",
     "text": [
      "2024/10/21 23:41:07 INFO mlflow.tracking.fluent: Autologging successfully enabled for sklearn.\n",
      "2024/10/21 23:41:07 INFO mlflow.tracking.fluent: Autologging successfully enabled for keras.\n"
     ]
    }
   ],
   "source": [
    "import mlflow\n",
    "from sklearn.tree import DecisionTreeClassifier\n",
    "\n",
    "mlflow.autolog()  # Optional: Enable autologging for DecisionTree\n",
    "\n",
    "with mlflow.start_run(run_name=\"My Decision Tree Model(credit card based) v1\"):\n",
    "  # Decision Tree Classifier\n",
    "  dt_model = DecisionTreeClassifier()\n",
    "  dt_model.fit(X_train_creditcard, y_train_creditcard)\n",
    "\n",
    "  # Evaluate Decision Tree\n",
    "  y_pred_dt = dt_model.predict(X_test_creditcard)\n",
    "  accuracy_dt = accuracy_score(y_test_creditcard, y_pred_dt)\n",
    "  print(f\"Accuracy: {accuracy_dt}\")\n",
    "\n",
    "  # Log parameters and metrics\n",
    "  mlflow.log_param(\"model\", \"decision_tree\")\n",
    "  mlflow.log_metric(\"accuracy\", accuracy_dt)\n",
    "\n",
    "  # Log trained model\n",
    "  mlflow.sklearn.log_model(dt_model, \"dt_model.pkl\", input_example=X_train_creditcard[:1])\n",
    "\n",
    "  run_id = mlflow.active_run().info.run_id\n",
    "  print(f\"run_id {run_id}\")"
   ]
  },
  {
   "cell_type": "code",
   "execution_count": null,
   "metadata": {},
   "outputs": [],
   "source": [
    "import mlflow\n",
    "from sklearn.ensemble import RandomForestClassifier\n",
    "\n",
    "mlflow.autolog()  # Optional: Enable autologging for RandomForest\n",
    "\n",
    "with mlflow.start_run(run_name=\"My Random Forest Model(credit card based) v1\"):\n",
    "  # Random Forest Classifier\n",
    "  rf_model = RandomForestClassifier()\n",
    "  rf_model.fit(X_train_creditcard, y_train_creditcard)\n",
    "\n",
    "  # Evaluate Random Forest\n",
    "  y_pred_rf = rf_model.predict(X_test_creditcard)\n",
    "  accuracy_rf = accuracy_score(y_test_creditcard, y_pred_rf)\n",
    "  print(f\"Accuracy: {accuracy_rf}\")\n",
    "\n",
    "  # Log parameters and metrics\n",
    "  mlflow.log_param(\"model\", \"random_forest\")\n",
    "  mlflow.log_metric(\"accuracy\", accuracy_rf)\n",
    "\n",
    "  # Log trained model\n",
    "  mlflow.sklearn.log_model(rf_model, \"rf_model.pkl\", input_example=X_train_creditcard[:1])\n",
    "\n",
    "  run_id = mlflow.active_run().info.run_id\n",
    "  print(f\"run_id {run_id}\")"
   ]
  },
  {
   "cell_type": "code",
   "execution_count": null,
   "metadata": {},
   "outputs": [],
   "source": [
    "import mlflow\n",
    "from sklearn.ensemble import GradientBoostingClassifier\n",
    "\n",
    "mlflow.autolog()  # Optional: Enable autologging for GradientBoosting\n",
    "\n",
    "with mlflow.start_run(run_name=\"My Gradient Boosting Model(credit card based) v1\"):\n",
    "  # Gradient Boosting Classifier\n",
    "  gb_model = GradientBoostingClassifier()\n",
    "  gb_model.fit(X_train_creditcard, y_train_creditcard)\n",
    "\n",
    "  # Evaluate Gradient Boosting\n",
    "  y_pred_gb = gb_model.predict(X_test_creditcard)\n",
    "  accuracy_gb = accuracy_score(y_test_creditcard, y_pred_gb)\n",
    "  print(f\"Accuracy: {accuracy_gb}\")\n",
    "\n",
    "  # Log parameters and metrics\n",
    "  mlflow.log_param(\"model\", \"gradient_boosting\")\n",
    "  mlflow.log_metric(\"accuracy\", accuracy_gb)\n",
    "\n",
    "  # Log trained model\n",
    "  mlflow.sklearn.log_model(gb_model, \"gb_model.pkl\", input_example=X_train_creditcard[:1])\n",
    "\n",
    "  run_id = mlflow.active_run().info.run_id\n",
    "  print(f\"run_id {run_id}\")"
   ]
  },
  {
   "cell_type": "code",
   "execution_count": null,
   "metadata": {},
   "outputs": [],
   "source": [
    "import mlflow\n",
    "from sklearn.neural_network import MLPClassifier\n",
    "\n",
    "mlflow.autolog()  # Optional: Enable autologging for MLP\n",
    "\n",
    "with mlflow.start_run(run_name=\"My MLP Model(credit card based) v1\"):\n",
    "  # MLP Classifier\n",
    "  mlp_model = MLPClassifier()\n",
    "  mlp_model.fit(X_train_creditcard, y_train_creditcard)\n",
    "\n",
    "  # Evaluate MLP\n",
    "  y_pred_mlp = mlp_model.predict(X_test_creditcard)\n",
    "  accuracy_mlp = accuracy_score(y_test_creditcard, y_pred_mlp)\n",
    "  print(f\"Accuracy: {accuracy_mlp}\")\n",
    "\n",
    "  # Log parameters and metrics\n",
    "  mlflow.log_param(\"model\", \"mlp\")\n",
    "  mlflow.log_metric(\"accuracy\", accuracy_mlp)\n",
    "\n",
    "  # Log trained model\n",
    "  mlflow.sklearn.log_model(mlp_model, \"mlp_model.pkl\", input_example=X_train_creditcard[:1])\n",
    "\n",
    "  run_id = mlflow.active_run().info.run_id\n",
    "  print(f\"run_id {run_id}\")"
   ]
  },
  {
   "cell_type": "code",
   "execution_count": null,
   "metadata": {},
   "outputs": [],
   "source": [
    "mlflow.autolog()\n",
    "with mlflow.start_run(run_name=\"My CNN Model(credit card based) v1\"):\n",
    "  # CNN Model\n",
    "  cnn_model = Sequential([\n",
    "      Conv2D(32, (3, 3), activation='relu', input_shape=(28, 28, 1)),  # Adjust input shape if needed\n",
    "      MaxPooling2D((2, 2)),\n",
    "      Flatten(),\n",
    "      Dense(128, activation='relu'),\n",
    "      Dense(1, activation='sigmoid')\n",
    "  ])\n",
    "\n",
    "  cnn_model.compile(optimizer='adam', loss='binary_crossentropy', metrics=['accuracy'])\n",
    "\n",
    "  cnn_model.fit(X_train_creditcard, y_train_creditcard, epochs=10, batch_size=32)\n",
    "\n",
    "  # Evaluate CNN\n",
    "  loss, accuracy = cnn_model.evaluate(X_test_creditcard, y_test_creditcard)\n",
    "  print(f\"Accuracy: {accuracy}\")\n",
    "\n",
    "  # Log parameters and metrics\n",
    "  mlflow.log_param(\"model\", \"cnn\")\n",
    "  mlflow.log_metric(\"accuracy\", accuracy)\n",
    "\n",
    "  # Log trained model\n",
    "  mlflow.keras.log_model(cnn_model, \"cnn_model.h5\")\n",
    "\n",
    "  run_id = mlflow.active_run().info.run_id\n",
    "  print(f\"run_id {run_id}\")"
   ]
  },
  {
   "cell_type": "code",
   "execution_count": null,
   "metadata": {},
   "outputs": [],
   "source": [
    "mlflow.autolog()\n",
    "with mlflow.start_run(run_name=\"My RNN Model(credit card based) v1\"):\n",
    "  # RNN Model\n",
    "  rnn_model = Sequential([\n",
    "      SimpleRNN(units=64, activation='relu', input_shape=(None, X_train_creditcard.shape[1])),  # Adjust input shape if needed\n",
    "      Dense(1, activation='sigmoid')\n",
    "  ])\n",
    "\n",
    "  rnn_model.compile(optimizer='adam', loss='binary_crossentropy', metrics=['accuracy'])\n",
    "\n",
    "  rnn_model.fit(X_train_creditcard, y_train_creditcard, epochs=10, batch_size=32)\n",
    "\n",
    "  # Evaluate RNN\n",
    "  loss, accuracy = rnn_model.evaluate(X_test_creditcard, y_test_creditcard)\n",
    "  print(f\"Accuracy: {accuracy}\")\n",
    "\n",
    "  # Log parameters and metrics\n",
    "  mlflow.log_param(\"model\", \"rnn\")\n",
    "  mlflow.log_metric(\"accuracy\", accuracy)\n",
    "\n",
    "  # Log trained model\n",
    "  mlflow.keras.log_model(rnn_model, \"rnn_model.h5\")\n",
    "\n",
    "  run_id = mlflow.active_run().info.run_id\n",
    "  print(f\"run_id {run_id}\")"
   ]
  },
  {
   "cell_type": "code",
   "execution_count": null,
   "metadata": {},
   "outputs": [],
   "source": [
    "mlflow.autolog()\n",
    "with mlflow.start_run(run_name=\"My LSTM Model(credit card based) v1\"):\n",
    "  # LSTM Model\n",
    "  lstm_model = Sequential([\n",
    "      LSTM(units=64, activation='relu', input_shape=(None, X_train_creditcard.shape[1])),  # Adjust input shape if needed\n",
    "      Dense(1, activation='sigmoid')\n",
    "  ])\n",
    "\n",
    "  lstm_model.compile(optimizer='adam', loss='binary_crossentropy', metrics=['accuracy'])\n",
    "\n",
    "  lstm_model.fit(X_train_creditcard, y_train_creditcard, epochs=10, batch_size=32)\n",
    "\n",
    "  # Evaluate LSTM\n",
    "  loss, accuracy = lstm_model.evaluate(X_test_creditcard, y_test_creditcard)\n",
    "  print(f\"Accuracy: {accuracy}\")\n",
    "\n",
    "  # Log parameters and metrics\n",
    "  mlflow.log_param(\"model\", \"lstm\")\n",
    "  mlflow.log_metric(\"accuracy\", accuracy)\n",
    "\n",
    "  # Log trained model\n",
    "  mlflow.keras.log_model(lstm_model, \"lstm_model.h5\")\n",
    "\n",
    "  run_id = mlflow.active_run().info.run_id\n",
    "  print(f\"run_id {run_id}\")"
   ]
  }
 ],
 "metadata": {
  "kernelspec": {
   "display_name": "Python 3",
   "language": "python",
   "name": "python3"
  },
  "language_info": {
   "codemirror_mode": {
    "name": "ipython",
    "version": 3
   },
   "file_extension": ".py",
   "mimetype": "text/x-python",
   "name": "python",
   "nbconvert_exporter": "python",
   "pygments_lexer": "ipython3",
   "version": "3.12.7"
  }
 },
 "nbformat": 4,
 "nbformat_minor": 2
}
