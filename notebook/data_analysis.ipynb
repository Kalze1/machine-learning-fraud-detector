{
 "cells": [
  {
   "cell_type": "code",
   "execution_count": 1,
   "metadata": {},
   "outputs": [],
   "source": [
    "import os\n",
    "os.chdir(\"../\")"
   ]
  },
  {
   "cell_type": "code",
   "execution_count": 2,
   "metadata": {},
   "outputs": [],
   "source": [
    "import pandas as pd"
   ]
  },
  {
   "cell_type": "code",
   "execution_count": 3,
   "metadata": {},
   "outputs": [],
   "source": [
    "ipAddress = pd.read_csv(\"data/IpAddress_to_Country.csv\")"
   ]
  },
  {
   "cell_type": "code",
   "execution_count": 4,
   "metadata": {},
   "outputs": [],
   "source": [
    "fraud_data = pd.read_csv(\"data/Fraud_Data.csv\")"
   ]
  },
  {
   "cell_type": "code",
   "execution_count": 7,
   "metadata": {},
   "outputs": [],
   "source": [
    "creditcard_data = pd.read_csv(\"data/creditcard.csv\")"
   ]
  },
  {
   "cell_type": "code",
   "execution_count": null,
   "metadata": {},
   "outputs": [],
   "source": [
    "from scripts.preprocessing import count_missing_values\n",
    "count_missing_values(creditcard_data)"
   ]
  },
  {
   "cell_type": "code",
   "execution_count": 13,
   "metadata": {},
   "outputs": [],
   "source": [
    "fraud_df_cl = fraud_data.drop_duplicates()\n",
    "columns_with_types = {\n",
    "        'user_id': 'int64',\n",
    "        'purchase_value': 'float64',\n",
    "        'signup_time': 'datetime64[ns]',\n",
    "        'purchase_time': 'datetime64[ns]',\n",
    "        'age': 'int64',\n",
    "        'ip_address': 'int64',\n",
    "        'class': 'int64'\n",
    "    }\n",
    "fraud_df = fraud_df_cl.astype(columns_with_types)"
   ]
  },
  {
   "cell_type": "code",
   "execution_count": 14,
   "metadata": {},
   "outputs": [],
   "source": [
    "ip_df_cl = ipAddress.drop_duplicates()\n",
    "columns_with_types = {\n",
    "        'lower_bound_ip_address': 'int64',\n",
    "        'upper_bound_ip_address': 'int64'\n",
    "    }\n",
    "ip_df = ip_df_cl.astype(columns_with_types)"
   ]
  },
  {
   "cell_type": "code",
   "execution_count": 15,
   "metadata": {},
   "outputs": [],
   "source": [
    "creditcard_df_cl = creditcard_data.drop_duplicates()\n",
    "columns_with_types = {\n",
    "        'Time': 'float64',\n",
    "        'Amount': 'float64',\n",
    "        'Class': 'int64'\n",
    "    }\n",
    "creditcard_df = creditcard_df_cl.astype(columns_with_types)"
   ]
  },
  {
   "cell_type": "code",
   "execution_count": null,
   "metadata": {},
   "outputs": [],
   "source": [
    "from scripts.eda import eda\n",
    "eda(fraud_df, ip_df, creditcard_df)"
   ]
  },
  {
   "cell_type": "code",
   "execution_count": null,
   "metadata": {},
   "outputs": [],
   "source": [
    "from scripts.merge import merge\n",
    "merged_data = merge(fraud_df, ip_df)\n"
   ]
  },
  {
   "cell_type": "code",
   "execution_count": null,
   "metadata": {},
   "outputs": [],
   "source": [
    "from scripts.preprocessing import preprocess\n",
    "file_path = \"../data/merged_data.csv\"\n",
    "preprocessed = preprocess(file_path)\n"
   ]
  },
  {
   "cell_type": "code",
   "execution_count": 30,
   "metadata": {},
   "outputs": [],
   "source": [
    "preprocessed.to_csv(\"data/preprocessed.csv\")"
   ]
  }
 ],
 "metadata": {
  "kernelspec": {
   "display_name": "Python 3",
   "language": "python",
   "name": "python3"
  },
  "language_info": {
   "codemirror_mode": {
    "name": "ipython",
    "version": 3
   },
   "file_extension": ".py",
   "mimetype": "text/x-python",
   "name": "python",
   "nbconvert_exporter": "python",
   "pygments_lexer": "ipython3",
   "version": "3.12.7"
  }
 },
 "nbformat": 4,
 "nbformat_minor": 2
}
